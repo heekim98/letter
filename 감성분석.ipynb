{
 "cells": [
  {
   "cell_type": "code",
   "execution_count": 1,
   "metadata": {},
   "outputs": [],
   "source": [
    "import pandas as pd"
   ]
  },
  {
   "cell_type": "code",
   "execution_count": 2,
   "metadata": {},
   "outputs": [
    {
     "data": {
      "text/html": [
       "<div>\n",
       "<style scoped>\n",
       "    .dataframe tbody tr th:only-of-type {\n",
       "        vertical-align: middle;\n",
       "    }\n",
       "\n",
       "    .dataframe tbody tr th {\n",
       "        vertical-align: top;\n",
       "    }\n",
       "\n",
       "    .dataframe thead th {\n",
       "        text-align: right;\n",
       "    }\n",
       "</style>\n",
       "<table border=\"1\" class=\"dataframe\">\n",
       "  <thead>\n",
       "    <tr style=\"text-align: right;\">\n",
       "      <th></th>\n",
       "      <th>내용</th>\n",
       "    </tr>\n",
       "  </thead>\n",
       "  <tbody>\n",
       "    <tr>\n",
       "      <th>0</th>\n",
       "      <td>이산가족, 친척, 애명은, 권씨, 권씨의아들, 사촌형, 권씨, 권씨, 오촌조카, 권...</td>\n",
       "    </tr>\n",
       "    <tr>\n",
       "      <th>1</th>\n",
       "      <td>강남, 안경원, 사장님, 안녕, 사업, 자미, 8월, 안경, 중공, 사람, 사진, ...</td>\n",
       "    </tr>\n",
       "    <tr>\n",
       "      <th>2</th>\n",
       "      <td>재삼, 말숨, 해결, 해주시면, 감사, 명년, 8월, 88올님픽, 갈려고, 고려, ...</td>\n",
       "    </tr>\n",
       "    <tr>\n",
       "      <th>3</th>\n",
       "      <td>번영창성, 고국, 련락, 서울, 아데아운동대회, 성황, 텔레비,  88년, 세계올림...</td>\n",
       "    </tr>\n",
       "    <tr>\n",
       "      <th>4</th>\n",
       "      <td>고마와, 괘력달력, 우편비가, 속심말, 량해, 편집아저씨, 중국, 흑룡강성, 할빈시...</td>\n",
       "    </tr>\n",
       "  </tbody>\n",
       "</table>\n",
       "</div>"
      ],
      "text/plain": [
       "                                                  내용\n",
       "0  이산가족, 친척, 애명은, 권씨, 권씨의아들, 사촌형, 권씨, 권씨, 오촌조카, 권...\n",
       "1  강남, 안경원, 사장님, 안녕, 사업, 자미, 8월, 안경, 중공, 사람, 사진, ...\n",
       "2  재삼, 말숨, 해결, 해주시면, 감사, 명년, 8월, 88올님픽, 갈려고, 고려, ...\n",
       "3  번영창성, 고국, 련락, 서울, 아데아운동대회, 성황, 텔레비,  88년, 세계올림...\n",
       "4  고마와, 괘력달력, 우편비가, 속심말, 량해, 편집아저씨, 중국, 흑룡강성, 할빈시..."
      ]
     },
     "execution_count": 2,
     "metadata": {},
     "output_type": "execute_result"
    }
   ],
   "source": [
    "Data = pd.read_csv('0617_8688.csv', encoding = 'utf-8', engine = 'python')\n",
    "Data.head()"
   ]
  },
  {
   "cell_type": "code",
   "execution_count": 3,
   "metadata": {},
   "outputs": [
    {
     "data": {
      "text/html": [
       "<div>\n",
       "<style scoped>\n",
       "    .dataframe tbody tr th:only-of-type {\n",
       "        vertical-align: middle;\n",
       "    }\n",
       "\n",
       "    .dataframe tbody tr th {\n",
       "        vertical-align: top;\n",
       "    }\n",
       "\n",
       "    .dataframe thead th {\n",
       "        text-align: right;\n",
       "    }\n",
       "</style>\n",
       "<table border=\"1\" class=\"dataframe\">\n",
       "  <thead>\n",
       "    <tr style=\"text-align: right;\">\n",
       "      <th></th>\n",
       "      <th>내용</th>\n",
       "    </tr>\n",
       "  </thead>\n",
       "  <tbody>\n",
       "    <tr>\n",
       "      <th>0</th>\n",
       "      <td>이산가족, 친척, 애명은, 권씨, 권씨의아들, 사촌형, 권씨, 권씨, 오촌조카, 권...</td>\n",
       "    </tr>\n",
       "    <tr>\n",
       "      <th>23</th>\n",
       "      <td>안영, 무고, 보내주신, 오늘의한국, 밧고, 기버서, 올림픽, 식구, 조화햇슴니다,...</td>\n",
       "    </tr>\n",
       "    <tr>\n",
       "      <th>24</th>\n",
       "      <td>편지, 연락, 고향, 동포, 민족, 문화, 풍습, 학습, 재료, 부족, 곤난, 책,...</td>\n",
       "    </tr>\n",
       "    <tr>\n",
       "      <th>25</th>\n",
       "      <td>안녕, 여러분, 인사, 저, 86년도, 그립든, 고향, 88서울올림픽, 구경, 꼭,...</td>\n",
       "    </tr>\n",
       "    <tr>\n",
       "      <th>28</th>\n",
       "      <td>김포공항, 이별, 편지, 회답, 몸, 무고, 영읍, 손자녀, 별고, 알고십다, 막냉...</td>\n",
       "    </tr>\n",
       "  </tbody>\n",
       "</table>\n",
       "</div>"
      ],
      "text/plain": [
       "                                                   내용\n",
       "0   이산가족, 친척, 애명은, 권씨, 권씨의아들, 사촌형, 권씨, 권씨, 오촌조카, 권...\n",
       "23  안영, 무고, 보내주신, 오늘의한국, 밧고, 기버서, 올림픽, 식구, 조화햇슴니다,...\n",
       "24  편지, 연락, 고향, 동포, 민족, 문화, 풍습, 학습, 재료, 부족, 곤난, 책,...\n",
       "25  안녕, 여러분, 인사, 저, 86년도, 그립든, 고향, 88서울올림픽, 구경, 꼭,...\n",
       "28  김포공항, 이별, 편지, 회답, 몸, 무고, 영읍, 손자녀, 별고, 알고십다, 막냉..."
      ]
     },
     "execution_count": 3,
     "metadata": {},
     "output_type": "execute_result"
    }
   ],
   "source": [
    "kor = Data['내용'].str.contains('조국|한국|대한민국|남한|북한|고향')\n",
    "kor_pd = Data[kor]\n",
    "kor_pd.head()"
   ]
  },
  {
   "cell_type": "code",
   "execution_count": 4,
   "metadata": {},
   "outputs": [],
   "source": [
    "from konlpy.tag import Okt\n",
    "twitter = Okt()"
   ]
  },
  {
   "cell_type": "code",
   "execution_count": 5,
   "metadata": {},
   "outputs": [
    {
     "data": {
      "text/plain": [
       "['이산가족, 친척, 애명은, 권씨, 권씨의아들, 사촌형, 권씨, 권씨, 오촌조카, 권씨, 고종사촌, 김씨, 살아있을것, 자손, 창원군, 대학, 광복시, 신의주, 고향창원군대산면가술리, 밀양오방동, 반가운소식',\n",
       " '안영, 무고, 보내주신, 오늘의한국, 밧고, 기버서, 올림픽, 식구, 조화햇슴니다, 고맙, 부탁, 부탁, 노력, 연로, 준비, 한중, 관계, 조화지니까, 소문, 모국, 친척, 신새, 문제, 알아보아서, 미안, 중화인민공화국, 하북성, 친황다오시, 해항구, 산동장소구']"
      ]
     },
     "execution_count": 5,
     "metadata": {},
     "output_type": "execute_result"
    }
   ],
   "source": [
    "test_kor = []\n",
    "for line in kor_pd['내용']:\n",
    "    test_kor.append(line)\n",
    "test_kor[:2]"
   ]
  },
  {
   "cell_type": "code",
   "execution_count": 6,
   "metadata": {},
   "outputs": [
    {
     "data": {
      "text/plain": [
       "[[('이산가족', 'Noun'),\n",
       "  (',', 'Punctuation'),\n",
       "  ('친척', 'Noun'),\n",
       "  (',', 'Punctuation'),\n",
       "  ('애', 'Noun'),\n",
       "  ('명', 'Suffix'),\n",
       "  ('은', 'Josa'),\n",
       "  (',', 'Punctuation'),\n",
       "  ('권씨', 'Noun'),\n",
       "  (',', 'Punctuation'),\n",
       "  ('권씨', 'Noun'),\n",
       "  ('의', 'Josa'),\n",
       "  ('아들', 'Noun'),\n",
       "  (',', 'Punctuation'),\n",
       "  ('사촌형', 'Noun'),\n",
       "  (',', 'Punctuation'),\n",
       "  ('권씨', 'Noun'),\n",
       "  (',', 'Punctuation'),\n",
       "  ('권씨', 'Noun'),\n",
       "  (',', 'Punctuation'),\n",
       "  ('오촌', 'Noun'),\n",
       "  ('조카', 'Noun'),\n",
       "  (',', 'Punctuation'),\n",
       "  ('권씨', 'Noun'),\n",
       "  (',', 'Punctuation'),\n",
       "  ('고종사촌', 'Noun'),\n",
       "  (',', 'Punctuation'),\n",
       "  ('김씨', 'Noun'),\n",
       "  (',', 'Punctuation'),\n",
       "  ('살아있을것', 'Verb'),\n",
       "  (',', 'Punctuation'),\n",
       "  ('자손', 'Noun'),\n",
       "  (',', 'Punctuation'),\n",
       "  ('창원', 'Noun'),\n",
       "  ('군', 'Suffix'),\n",
       "  (',', 'Punctuation'),\n",
       "  ('대학', 'Noun'),\n",
       "  (',', 'Punctuation'),\n",
       "  ('광복', 'Noun'),\n",
       "  ('시', 'Noun'),\n",
       "  (',', 'Punctuation'),\n",
       "  ('신의주', 'Noun'),\n",
       "  (',', 'Punctuation'),\n",
       "  ('고향', 'Noun'),\n",
       "  ('창원', 'Noun'),\n",
       "  ('군', 'Suffix'),\n",
       "  ('대산면', 'Noun'),\n",
       "  ('가', 'Josa'),\n",
       "  ('술리', 'Noun'),\n",
       "  (',', 'Punctuation'),\n",
       "  ('밀양', 'Noun'),\n",
       "  ('오방', 'Noun'),\n",
       "  ('동', 'Modifier'),\n",
       "  (',', 'Punctuation'),\n",
       "  ('반가운', 'Adjective'),\n",
       "  ('소식', 'Noun')],\n",
       " [('안영', 'Noun'),\n",
       "  (',', 'Punctuation'),\n",
       "  ('무고', 'Noun'),\n",
       "  (',', 'Punctuation'),\n",
       "  ('보내주신', 'Verb'),\n",
       "  (',', 'Punctuation'),\n",
       "  ('오늘', 'Noun'),\n",
       "  ('의', 'Josa'),\n",
       "  ('한국', 'Noun'),\n",
       "  (',', 'Punctuation'),\n",
       "  ('밧고', 'Verb'),\n",
       "  (',', 'Punctuation'),\n",
       "  ('기버', 'Noun'),\n",
       "  ('서', 'Josa'),\n",
       "  (',', 'Punctuation'),\n",
       "  ('올림픽', 'Noun'),\n",
       "  (',', 'Punctuation'),\n",
       "  ('식구', 'Noun'),\n",
       "  (',', 'Punctuation'),\n",
       "  ('조화', 'Noun'),\n",
       "  ('햇슴', 'Noun'),\n",
       "  ('니', 'Josa'),\n",
       "  ('다', 'Adverb'),\n",
       "  (',', 'Punctuation'),\n",
       "  ('고맙', 'Adjective'),\n",
       "  (',', 'Punctuation'),\n",
       "  ('부탁', 'Noun'),\n",
       "  (',', 'Punctuation'),\n",
       "  ('부탁', 'Noun'),\n",
       "  (',', 'Punctuation'),\n",
       "  ('노력', 'Noun'),\n",
       "  (',', 'Punctuation'),\n",
       "  ('연로', 'Noun'),\n",
       "  (',', 'Punctuation'),\n",
       "  ('준비', 'Noun'),\n",
       "  (',', 'Punctuation'),\n",
       "  ('한중', 'Noun'),\n",
       "  (',', 'Punctuation'),\n",
       "  ('관계', 'Noun'),\n",
       "  (',', 'Punctuation'),\n",
       "  ('조', 'Modifier'),\n",
       "  ('화지', 'Noun'),\n",
       "  ('니까', 'Josa'),\n",
       "  (',', 'Punctuation'),\n",
       "  ('소문', 'Noun'),\n",
       "  (',', 'Punctuation'),\n",
       "  ('모국', 'Noun'),\n",
       "  (',', 'Punctuation'),\n",
       "  ('친척', 'Noun'),\n",
       "  (',', 'Punctuation'),\n",
       "  ('신새', 'Noun'),\n",
       "  (',', 'Punctuation'),\n",
       "  ('문제', 'Noun'),\n",
       "  (',', 'Punctuation'),\n",
       "  ('알아보아서', 'Verb'),\n",
       "  (',', 'Punctuation'),\n",
       "  ('미안', 'Noun'),\n",
       "  (',', 'Punctuation'),\n",
       "  ('중화인민공화국', 'Noun'),\n",
       "  (',', 'Punctuation'),\n",
       "  ('하북성', 'Noun'),\n",
       "  (',', 'Punctuation'),\n",
       "  ('친황다오시', 'Noun'),\n",
       "  (',', 'Punctuation'),\n",
       "  ('해', 'Noun'),\n",
       "  ('항구', 'Noun'),\n",
       "  (',', 'Punctuation'),\n",
       "  ('산동', 'Noun'),\n",
       "  ('장소', 'Noun'),\n",
       "  ('구', 'Noun')]]"
      ]
     },
     "execution_count": 6,
     "metadata": {},
     "output_type": "execute_result"
    }
   ],
   "source": [
    "sentences_tag_kor = []\n",
    "for sentence in test_kor:\n",
    "    morph = twitter.pos(sentence)\n",
    "    sentences_tag_kor.append(morph)\n",
    "sentences_tag_kor[:2]"
   ]
  },
  {
   "cell_type": "code",
   "execution_count": 7,
   "metadata": {},
   "outputs": [
    {
     "data": {
      "text/plain": [
       "['반가운', '고맙', '반가운', '정확한', '작은의']"
      ]
     },
     "execution_count": 7,
     "metadata": {},
     "output_type": "execute_result"
    }
   ],
   "source": [
    "adj_list_kor = []\n",
    "for sentence1 in sentences_tag_kor:\n",
    "    for word, tag in sentence1:\n",
    "        if tag in ['Adjective']:\n",
    "            adj_list_kor.append(word)\n",
    "adj_list_kor[:5]"
   ]
  },
  {
   "cell_type": "code",
   "execution_count": 8,
   "metadata": {},
   "outputs": [],
   "source": [
    "import json"
   ]
  },
  {
   "cell_type": "code",
   "execution_count": 9,
   "metadata": {},
   "outputs": [],
   "source": [
    "def KnuSL(wordname):\n",
    "    with open('SentiWord_info.json', encoding = 'utf-8-sig', mode = 'r') as f:\n",
    "        data = json.load(f)\n",
    "        \n",
    "        result = ['None', 'None']\n",
    "        for i in range(0, len(data)):\n",
    "            if data[i]['word'] == wordname:\n",
    "                result.pop()\n",
    "                result.pop()\n",
    "                result.append(data[i]['word_root'])\n",
    "                result.append(data[i]['polarity'])\n",
    "                \n",
    "        r_word = result[0]\n",
    "        s_word = result[1]\n",
    "        \n",
    "    return r_word, s_word"
   ]
  },
  {
   "cell_type": "code",
   "execution_count": 10,
   "metadata": {},
   "outputs": [],
   "source": [
    "kor_r_words = []\n",
    "kor_s_words = []\n",
    "for k in range(0, len(adj_list_kor)):\n",
    "    kor_r_words.append(KnuSL(adj_list_kor[k])[0])\n",
    "    kor_s_words.append(KnuSL(adj_list_kor[k])[1])"
   ]
  },
  {
   "cell_type": "code",
   "execution_count": 11,
   "metadata": {},
   "outputs": [],
   "source": [
    "kor_posneg_list = []\n",
    "for k in range(0, len(adj_list_kor)):\n",
    "    test = []\n",
    "    test.append(kor_r_words[k])\n",
    "    test.append(kor_s_words[k])\n",
    "    kor_posneg_list.append(test)"
   ]
  },
  {
   "cell_type": "code",
   "execution_count": 12,
   "metadata": {},
   "outputs": [
    {
     "data": {
      "text/plain": [
       "[['반갑', '2'],\n",
       " ['None', 'None'],\n",
       " ['반갑', '2'],\n",
       " ['정확', '1'],\n",
       " ['None', 'None'],\n",
       " ['그립', '1'],\n",
       " ['기쁘', '2'],\n",
       " ['기쁘', '2'],\n",
       " ['None', 'None'],\n",
       " ['None', 'None'],\n",
       " ['None', 'None'],\n",
       " ['None', 'None'],\n",
       " ['더러운', '-2'],\n",
       " ['None', 'None'],\n",
       " ['None', 'None']]"
      ]
     },
     "execution_count": 12,
     "metadata": {},
     "output_type": "execute_result"
    }
   ],
   "source": [
    "kor_posneg_list[:15]"
   ]
  },
  {
   "cell_type": "code",
   "execution_count": 13,
   "metadata": {},
   "outputs": [],
   "source": [
    "kor_pos_list = []\n",
    "kor_pos_score = []\n",
    "kor_neg_list = []\n",
    "kor_neg_score = []\n",
    "for k in range(0, len(kor_posneg_list)):\n",
    "    if kor_posneg_list[k][1] == '1':\n",
    "        kor_pos_list.append(kor_posneg_list[k][0])\n",
    "        kor_pos_score.append(kor_posneg_list[k][1])\n",
    "    elif kor_posneg_list[k][1] == '2':\n",
    "        kor_pos_list.append(kor_posneg_list[k][0])\n",
    "        kor_pos_score.append(kor_posneg_list[k][1])\n",
    "    elif kor_posneg_list[k][1] == '-1':\n",
    "        kor_neg_list.append(kor_posneg_list[k][0])\n",
    "        kor_neg_score.append(kor_posneg_list[k][1])\n",
    "    elif kor_posneg_list[k][1] == '-2':\n",
    "        kor_neg_list.append(kor_posneg_list[k][0])\n",
    "        kor_neg_score.append(kor_posneg_list[k][1])"
   ]
  },
  {
   "cell_type": "code",
   "execution_count": 14,
   "metadata": {},
   "outputs": [
    {
     "data": {
      "text/plain": [
       "['-2', '-2', '-2']"
      ]
     },
     "execution_count": 14,
     "metadata": {},
     "output_type": "execute_result"
    }
   ],
   "source": [
    "kor_neg_score[:3]"
   ]
  },
  {
   "cell_type": "code",
   "execution_count": 15,
   "metadata": {},
   "outputs": [
    {
     "name": "stdout",
     "output_type": "stream",
     "text": [
      "12834\n",
      "2442\n",
      "498\n",
      "12834\n"
     ]
    }
   ],
   "source": [
    "print(len(kor_posneg_list))\n",
    "print(len(kor_pos_list))\n",
    "print(len(kor_neg_list))\n",
    "print(len(kor_r_words))"
   ]
  },
  {
   "cell_type": "code",
   "execution_count": 16,
   "metadata": {},
   "outputs": [
    {
     "data": {
      "text/plain": [
       "2944"
      ]
     },
     "execution_count": 16,
     "metadata": {},
     "output_type": "execute_result"
    }
   ],
   "source": [
    "while 'None' in kor_s_words:\n",
    "    kor_s_words.remove('None')\n",
    "len(kor_s_words)"
   ]
  },
  {
   "cell_type": "code",
   "execution_count": 17,
   "metadata": {},
   "outputs": [
    {
     "data": {
      "text/plain": [
       "3982"
      ]
     },
     "execution_count": 17,
     "metadata": {},
     "output_type": "execute_result"
    }
   ],
   "source": [
    "pos_sum = 0\n",
    "for k in range(0, len(kor_pos_score)):\n",
    "    pos_sum += int(kor_pos_score[k])\n",
    "pos_sum"
   ]
  },
  {
   "cell_type": "code",
   "execution_count": 18,
   "metadata": {},
   "outputs": [
    {
     "data": {
      "text/plain": [
       "-800"
      ]
     },
     "execution_count": 18,
     "metadata": {},
     "output_type": "execute_result"
    }
   ],
   "source": [
    "neg_sum = 0\n",
    "for k in range(0, len(kor_neg_score)):\n",
    "    neg_sum += int(kor_neg_score[k])\n",
    "neg_sum"
   ]
  },
  {
   "cell_type": "code",
   "execution_count": 19,
   "metadata": {
    "scrolled": true
   },
   "outputs": [
    {
     "name": "stdout",
     "output_type": "stream",
     "text": [
      "그립 615\n",
      "기쁘 427\n",
      "좋 245\n",
      "아름답 177\n",
      "반갑 129\n",
      "고맙 67\n",
      "따뜻 65\n",
      "새 61\n",
      "높 47\n",
      "무사히 37\n",
      "즐겁 35\n",
      "많 28\n",
      "위대 28\n",
      "젊 26\n",
      "우수 25\n",
      "훌륭 24\n",
      "굳 23\n",
      "재미있 21\n",
      "귀중 20\n",
      "좋아 19\n",
      "행복 16\n",
      "좋아하 14\n",
      "친하 14\n",
      "귀 11\n",
      "부드럽 11\n",
      "정확 9\n",
      "새롭 9\n",
      "똑똑 9\n",
      "자세히 9\n",
      "건강 9\n",
      "흥겹 8\n",
      "옳 7\n",
      "중요 6\n",
      "맑 6\n",
      "부지런히 6\n",
      "고상 6\n",
      "참되 6\n",
      "열렬히 5\n",
      "너그럽 5\n",
      "사랑 5\n",
      "힘차 5\n",
      "슬기 5\n",
      "친절 5\n",
      "유명 5\n",
      "올바르 4\n",
      "편히 3\n",
      "대단 3\n",
      "상당 3\n",
      "튼튼히 3\n",
      "유 3\n",
      "소중히 3\n",
      "드높 3\n",
      "유쾌 3\n",
      "유익 3\n",
      "고귀 3\n",
      "강하 3\n",
      "평안히 3\n",
      "즐거우 3\n",
      "유리 2\n",
      "친밀 2\n",
      "만족 2\n",
      "용감 2\n",
      "부러워하 2\n",
      "깨끗 2\n",
      "화려 2\n",
      "원만 2\n",
      "달콤 2\n",
      "편안히 2\n",
      "편안 2\n",
      "흐뭇 2\n",
      "거룩 2\n",
      "신성 2\n",
      "화창 2\n",
      "부럽 2\n",
      "건전 2\n",
      "곱 2\n",
      "떳떳 2\n",
      "중대 2\n",
      "환 2\n",
      "자유 2\n",
      "간드러지 1\n",
      "경건 1\n",
      "꾸준히 1\n",
      "이쁘 1\n",
      "씩씩 1\n",
      "곧 1\n",
      "알맞 1\n",
      "넉넉 1\n",
      "우아 1\n",
      "싹싹 1\n",
      "산뜻 1\n",
      "한결같 1\n",
      "현명 1\n",
      "익숙 1\n",
      "뛰어나 1\n",
      "착하 1\n",
      "쾌활 1\n",
      "다정 1\n",
      "상냥 1\n",
      "꾸준 1\n",
      "너그러이 1\n",
      "수월 1\n",
      "솔직 1\n",
      "소중 1\n",
      "맛있 1\n",
      "날씬 1\n",
      "값지 1\n",
      "귀하 1\n",
      "자랑 1\n",
      "설레이 1\n",
      "진실 1\n",
      "환하 1\n",
      "적당 1\n",
      "귀엽 1\n",
      "정 1\n",
      "활발 1\n",
      "충분히 1\n",
      "황홀 1\n",
      "선량 1\n",
      "영리 1\n",
      "상쾌 1\n",
      "시원 1\n",
      "확실 1\n",
      "괜찮 1\n",
      "희 1\n"
     ]
    }
   ],
   "source": [
    "from collections import Counter\n",
    "count = Counter(kor_pos_list)\n",
    "words = dict(count.most_common())\n",
    "#words\n",
    "for key, value in words.items():\n",
    "    print(key, value)"
   ]
  },
  {
   "cell_type": "code",
   "execution_count": 20,
   "metadata": {
    "scrolled": true
   },
   "outputs": [
    {
     "name": "stdout",
     "output_type": "stream",
     "text": [
      "없 69\n",
      "어렵 55\n",
      "외롭 35\n",
      "안타깝 32\n",
      "슬프 25\n",
      "아프 22\n",
      "답답 14\n",
      "쓰라리 12\n",
      "미안 11\n",
      "무정 10\n",
      "부끄럽 10\n",
      "쓸쓸 9\n",
      "비참 9\n",
      "두려워 9\n",
      "괴롭 9\n",
      "힘들 8\n",
      "불행 8\n",
      "애절 8\n",
      "부족 8\n",
      "서투르 7\n",
      "조급 7\n",
      "불쌍 6\n",
      "서럽 6\n",
      "무섭 6\n",
      "서늘 5\n",
      "낡 5\n",
      "바쁘 4\n",
      "쓰라림 4\n",
      "싫 4\n",
      "서운 4\n",
      "섭섭 3\n",
      "비싸 3\n",
      "불쾌 3\n",
      "불편 3\n",
      "심하 3\n",
      "약 3\n",
      "더럽 3\n",
      "더러운 2\n",
      "가련 2\n",
      "지루 2\n",
      "불쌍히 2\n",
      "딱하 2\n",
      "고통 2\n",
      "약하 2\n",
      "하찮 2\n",
      "아니 2\n",
      "불안 2\n",
      "초라 2\n",
      "천한 2\n",
      "허무 1\n",
      "가소롭 1\n",
      "애처롭 1\n",
      "급하 1\n",
      "쌀쌀 1\n",
      "나쁘 1\n",
      "두렵 1\n",
      "죄송 1\n",
      "불안정 1\n",
      "쓸데없 1\n",
      "이상 1\n",
      "곤란 1\n",
      "험하 1\n",
      "상실 1\n",
      "까다롭 1\n",
      "가난 1\n",
      "무례 1\n",
      "괴상 1\n",
      "참담 1\n",
      "싫어하 1\n",
      "반반 1\n",
      "불결 1\n",
      "분하 1\n",
      "우울 1\n",
      "허전 1\n",
      "침침 1\n",
      "어처구니없 1\n",
      "비통 1\n",
      "사납 1\n",
      "괴 1\n",
      "한심 1\n",
      "번거롭 1\n"
     ]
    }
   ],
   "source": [
    "count = Counter(kor_neg_list)\n",
    "words = dict(count.most_common())\n",
    "#words\n",
    "for key, value in words.items():\n",
    "    print(key, value)"
   ]
  },
  {
   "cell_type": "code",
   "execution_count": 22,
   "metadata": {},
   "outputs": [
    {
     "data": {
      "text/html": [
       "<div>\n",
       "<style scoped>\n",
       "    .dataframe tbody tr th:only-of-type {\n",
       "        vertical-align: middle;\n",
       "    }\n",
       "\n",
       "    .dataframe tbody tr th {\n",
       "        vertical-align: top;\n",
       "    }\n",
       "\n",
       "    .dataframe thead th {\n",
       "        text-align: right;\n",
       "    }\n",
       "</style>\n",
       "<table border=\"1\" class=\"dataframe\">\n",
       "  <thead>\n",
       "    <tr style=\"text-align: right;\">\n",
       "      <th></th>\n",
       "      <th>내용</th>\n",
       "    </tr>\n",
       "  </thead>\n",
       "  <tbody>\n",
       "    <tr>\n",
       "      <th>4</th>\n",
       "      <td>고마와, 괘력달력, 우편비가, 속심말, 량해, 편집아저씨, 중국, 흑룡강성, 할빈시...</td>\n",
       "    </tr>\n",
       "    <tr>\n",
       "      <th>6</th>\n",
       "      <td>전씨, 금년, 65세, 이전, 43년전, 조선, 강원도, 통천군, 인남면, 장용포리...</td>\n",
       "    </tr>\n",
       "    <tr>\n",
       "      <th>7</th>\n",
       "      <td>귀체건강, 사업, 동포, 행복, 인도주의, 사업, 중국, 흑룡강성, 오상현, 진서촌</td>\n",
       "    </tr>\n",
       "    <tr>\n",
       "      <th>15</th>\n",
       "      <td>존경하는, 형님, 공작, 분망, 일어사전, 감사, 충심, 사진, 한씨, 누나, 사진...</td>\n",
       "    </tr>\n",
       "    <tr>\n",
       "      <th>25</th>\n",
       "      <td>안녕, 여러분, 인사, 저, 86년도, 그립든, 고향, 88서울올림픽, 구경, 꼭,...</td>\n",
       "    </tr>\n",
       "  </tbody>\n",
       "</table>\n",
       "</div>"
      ],
      "text/plain": [
       "                                                   내용\n",
       "4   고마와, 괘력달력, 우편비가, 속심말, 량해, 편집아저씨, 중국, 흑룡강성, 할빈시...\n",
       "6   전씨, 금년, 65세, 이전, 43년전, 조선, 강원도, 통천군, 인남면, 장용포리...\n",
       "7      귀체건강, 사업, 동포, 행복, 인도주의, 사업, 중국, 흑룡강성, 오상현, 진서촌\n",
       "15  존경하는, 형님, 공작, 분망, 일어사전, 감사, 충심, 사진, 한씨, 누나, 사진...\n",
       "25  안녕, 여러분, 인사, 저, 86년도, 그립든, 고향, 88서울올림픽, 구경, 꼭,..."
      ]
     },
     "execution_count": 22,
     "metadata": {},
     "output_type": "execute_result"
    }
   ],
   "source": [
    "chn = Data['내용'].str.contains('중국|여기|한족|중화민국')\n",
    "chn_pd = Data[chn]\n",
    "chn_pd.head()"
   ]
  },
  {
   "cell_type": "code",
   "execution_count": 23,
   "metadata": {},
   "outputs": [],
   "source": [
    "test_chn = []\n",
    "for line in chn_pd['내용']:\n",
    "    test_chn.append(line)"
   ]
  },
  {
   "cell_type": "code",
   "execution_count": 24,
   "metadata": {},
   "outputs": [
    {
     "data": {
      "text/plain": [
       "[[('고마', 'Noun'),\n",
       "  ('와', 'Josa'),\n",
       "  (',', 'Punctuation'),\n",
       "  ('괘', 'Noun'),\n",
       "  ('력', 'Suffix'),\n",
       "  ('달력', 'Noun'),\n",
       "  (',', 'Punctuation'),\n",
       "  ('우편', 'Noun'),\n",
       "  ('비', 'Noun'),\n",
       "  ('가', 'Josa'),\n",
       "  (',', 'Punctuation'),\n",
       "  ('속', 'Modifier'),\n",
       "  ('심말', 'Noun'),\n",
       "  (',', 'Punctuation'),\n",
       "  ('량해', 'Noun'),\n",
       "  (',', 'Punctuation'),\n",
       "  ('편집', 'Noun'),\n",
       "  ('아저씨', 'Noun'),\n",
       "  (',', 'Punctuation'),\n",
       "  ('중국', 'Noun'),\n",
       "  (',', 'Punctuation'),\n",
       "  ('흑룡강성', 'Noun'),\n",
       "  (',', 'Punctuation'),\n",
       "  ('할', 'Verb'),\n",
       "  ('빈시', 'Verb'),\n",
       "  (',', 'Punctuation'),\n",
       "  ('조선족', 'Noun'),\n",
       "  ('제', 'Noun'),\n",
       "  ('1', 'Number'),\n",
       "  ('중학교', 'Noun'),\n",
       "  (',', 'Punctuation'),\n",
       "  ('고', 'Modifier'),\n",
       "  ('중', 'Noun'),\n",
       "  (',', 'Punctuation'),\n",
       "  ('2', 'Number'),\n",
       "  ('학년', 'Noun'),\n",
       "  (',', 'Punctuation'),\n",
       "  ('1', 'Number'),\n",
       "  ('반', 'Noun')],\n",
       " [('전씨', 'Noun'),\n",
       "  (',', 'Punctuation'),\n",
       "  ('금년', 'Noun'),\n",
       "  (',', 'Punctuation'),\n",
       "  ('65', 'Number'),\n",
       "  ('세', 'Noun'),\n",
       "  (',', 'Punctuation'),\n",
       "  ('이전', 'Noun'),\n",
       "  (',', 'Punctuation'),\n",
       "  ('43년', 'Number'),\n",
       "  ('전', 'Foreign'),\n",
       "  (',', 'Punctuation'),\n",
       "  ('조선', 'Noun'),\n",
       "  (',', 'Punctuation'),\n",
       "  ('강원도', 'Noun'),\n",
       "  (',', 'Punctuation'),\n",
       "  ('통천군', 'Noun'),\n",
       "  (',', 'Punctuation'),\n",
       "  ('인', 'Noun'),\n",
       "  ('남면', 'Noun'),\n",
       "  (',', 'Punctuation'),\n",
       "  ('장용', 'Noun'),\n",
       "  ('포리', 'Noun'),\n",
       "  (',', 'Punctuation'),\n",
       "  ('아버지', 'Noun'),\n",
       "  (',', 'Punctuation'),\n",
       "  ('어머니', 'Noun'),\n",
       "  (',', 'Punctuation'),\n",
       "  ('최씨', 'Noun'),\n",
       "  (',', 'Punctuation'),\n",
       "  ('큰', 'Verb'),\n",
       "  ('오빠', 'Noun'),\n",
       "  (',', 'Punctuation'),\n",
       "  ('둘째', 'Modifier'),\n",
       "  ('오빠', 'Noun'),\n",
       "  (',', 'Punctuation'),\n",
       "  ('큰', 'Verb'),\n",
       "  ('언니', 'Noun'),\n",
       "  (',', 'Punctuation'),\n",
       "  ('녀', 'Noun'),\n",
       "  ('동생', 'Noun'),\n",
       "  (',', 'Punctuation'),\n",
       "  ('남동생', 'Noun'),\n",
       "  (',', 'Punctuation'),\n",
       "  ('살다가', 'Verb'),\n",
       "  (',', 'Punctuation'),\n",
       "  ('1943년', 'Number'),\n",
       "  (',', 'Punctuation'),\n",
       "  ('중국', 'Noun'),\n",
       "  (',', 'Punctuation'),\n",
       "  ('지금', 'Noun'),\n",
       "  (',', 'Punctuation'),\n",
       "  ('소식', 'Noun'),\n",
       "  (',', 'Punctuation'),\n",
       "  ('전혀', 'Noun'),\n",
       "  (',', 'Punctuation'),\n",
       "  ('모루', 'Noun'),\n",
       "  ('고', 'Josa'),\n",
       "  (',', 'Punctuation'),\n",
       "  ('귀중', 'Noun'),\n",
       "  (',', 'Punctuation'),\n",
       "  ('생명', 'Noun'),\n",
       "  (',', 'Punctuation'),\n",
       "  ('친부모', 'Noun'),\n",
       "  (',', 'Punctuation'),\n",
       "  ('형제', 'Noun'),\n",
       "  (',', 'Punctuation'),\n",
       "  ('정', 'Noun'),\n",
       "  (',', 'Punctuation'),\n",
       "  ('귀중', 'Noun'),\n",
       "  (',', 'Punctuation'),\n",
       "  ('늙으신', 'Verb'),\n",
       "  (',', 'Punctuation'),\n",
       "  ('어머님', 'Noun'),\n",
       "  (',', 'Punctuation'),\n",
       "  ('소원', 'Noun'),\n",
       "  (',', 'Punctuation'),\n",
       "  ('자식', 'Noun'),\n",
       "  (',', 'Punctuation'),\n",
       "  ('소원', 'Noun'),\n",
       "  (',', 'Punctuation'),\n",
       "  ('노력', 'Noun'),\n",
       "  (',', 'Punctuation'),\n",
       "  ('생각', 'Noun'),\n",
       "  (',', 'Punctuation'),\n",
       "  ('살아서', 'Verb'),\n",
       "  (',', 'Punctuation'),\n",
       "  ('한번', 'Noun'),\n",
       "  (',', 'Punctuation'),\n",
       "  ('소원', 'Noun'),\n",
       "  (',', 'Punctuation'),\n",
       "  ('생', 'Noun'),\n",
       "  (',', 'Punctuation'),\n",
       "  ('부모님', 'Noun'),\n",
       "  (',', 'Punctuation'),\n",
       "  ('여생', 'Noun'),\n",
       "  (',', 'Punctuation'),\n",
       "  ('어머님', 'Noun'),\n",
       "  (',', 'Punctuation'),\n",
       "  ('소원', 'Noun'),\n",
       "  (',', 'Punctuation'),\n",
       "  ('자식', 'Noun'),\n",
       "  (',', 'Punctuation'),\n",
       "  ('부모', 'Noun'),\n",
       "  (',', 'Punctuation'),\n",
       "  ('효성', 'Noun'),\n",
       "  (',', 'Punctuation'),\n",
       "  ('필', 'Noun')]]"
      ]
     },
     "execution_count": 24,
     "metadata": {},
     "output_type": "execute_result"
    }
   ],
   "source": [
    "sentences_tag_chn = []\n",
    "for sentence in test_chn:\n",
    "    morph = twitter.pos(sentence)\n",
    "    sentences_tag_chn.append(morph)\n",
    "sentences_tag_chn[:2]"
   ]
  },
  {
   "cell_type": "code",
   "execution_count": 25,
   "metadata": {},
   "outputs": [
    {
     "data": {
      "text/plain": [
       "['반가운', '정확한', '외롭기', '없', '남부럽지']"
      ]
     },
     "execution_count": 25,
     "metadata": {},
     "output_type": "execute_result"
    }
   ],
   "source": [
    "adj_list_chn = []\n",
    "for sentence1 in sentences_tag_chn:\n",
    "    for word, tag in sentence1:\n",
    "        if tag in ['Adjective']:\n",
    "            adj_list_chn.append(word)\n",
    "adj_list_chn[:5]"
   ]
  },
  {
   "cell_type": "code",
   "execution_count": null,
   "metadata": {},
   "outputs": [],
   "source": [
    "chn_posneg_list = []\n",
    "for k in range(0, len(adj_list_chn)):\n",
    "    test = []\n",
    "    test.append(chn_r_words[k])\n",
    "    test.append(chn_s_words[k])\n",
    "    chn_posneg_list.append(test)"
   ]
  },
  {
   "cell_type": "code",
   "execution_count": 16,
   "metadata": {},
   "outputs": [
    {
     "data": {
      "text/plain": [
       "[['반갑', '2'],\n",
       " ['정확', '1'],\n",
       " ['None', 'None'],\n",
       " ['None', 'None'],\n",
       " ['None', 'None'],\n",
       " ['None', 'None'],\n",
       " ['None', 'None'],\n",
       " ['None', 'None'],\n",
       " ['그립', '1'],\n",
       " ['기쁘', '2'],\n",
       " ['None', 'None'],\n",
       " ['기쁘', '2'],\n",
       " ['None', 'None'],\n",
       " ['행복', '2'],\n",
       " ['귀중', '2'],\n",
       " ['None', 'None'],\n",
       " ['None', 'None'],\n",
       " ['None', 'None'],\n",
       " ['None', 'None'],\n",
       " ['없', '-1'],\n",
       " ['None', 'None'],\n",
       " ['None', 'None'],\n",
       " ['None', 'None'],\n",
       " ['None', 'None'],\n",
       " ['None', 'None'],\n",
       " ['None', 'None'],\n",
       " ['None', 'None'],\n",
       " ['None', 'None'],\n",
       " ['None', 'None'],\n",
       " ['None', 'None']]"
      ]
     },
     "execution_count": 16,
     "metadata": {},
     "output_type": "execute_result"
    }
   ],
   "source": [
    "chn_posneg_list[:30]"
   ]
  },
  {
   "cell_type": "code",
   "execution_count": 17,
   "metadata": {},
   "outputs": [],
   "source": [
    "chn_pos_list = []\n",
    "chn_pos_score = []\n",
    "chn_neg_list = []\n",
    "chn_neg_score = []\n",
    "for k in range(0, len(chn_posneg_list)):\n",
    "    if chn_posneg_list[k][1] == '1':\n",
    "        chn_pos_list.append(chn_posneg_list[k][0])\n",
    "        chn_pos_score.append(chn_posneg_list[k][1])\n",
    "    elif chn_posneg_list[k][1] == '2':\n",
    "        chn_pos_list.append(chn_posneg_list[k][0])\n",
    "        chn_pos_score.append(chn_posneg_list[k][1])\n",
    "    elif chn_posneg_list[k][1] == '-1':\n",
    "        chn_neg_list.append(chn_posneg_list[k][0])\n",
    "        chn_neg_score.append(chn_posneg_list[k][1])\n",
    "    elif chn_posneg_list[k][1] == '-2':\n",
    "        chn_neg_list.append(chn_posneg_list[k][0])\n",
    "        chn_neg_score.append(chn_posneg_list[k][1])"
   ]
  },
  {
   "cell_type": "code",
   "execution_count": 18,
   "metadata": {},
   "outputs": [
    {
     "data": {
      "text/plain": [
       "['-1', '-2', '-1']"
      ]
     },
     "execution_count": 18,
     "metadata": {},
     "output_type": "execute_result"
    }
   ],
   "source": [
    "chn_neg_score[:3]"
   ]
  },
  {
   "cell_type": "code",
   "execution_count": 19,
   "metadata": {},
   "outputs": [
    {
     "name": "stdout",
     "output_type": "stream",
     "text": [
      "11789\n",
      "1989\n",
      "392\n",
      "11789\n",
      "11789\n"
     ]
    }
   ],
   "source": [
    "print(len(chn_posneg_list))\n",
    "print(len(chn_pos_list))\n",
    "print(len(chn_neg_list))\n",
    "print(len(chn_r_words))\n",
    "print(len(chn_s_words))"
   ]
  },
  {
   "cell_type": "code",
   "execution_count": 20,
   "metadata": {},
   "outputs": [
    {
     "data": {
      "text/plain": [
       "2384"
      ]
     },
     "execution_count": 20,
     "metadata": {},
     "output_type": "execute_result"
    }
   ],
   "source": [
    "while 'None' in chn_s_words:\n",
    "    chn_s_words.remove('None')\n",
    "len(chn_s_words)"
   ]
  },
  {
   "cell_type": "code",
   "execution_count": 21,
   "metadata": {},
   "outputs": [
    {
     "data": {
      "text/plain": [
       "3269"
      ]
     },
     "execution_count": 21,
     "metadata": {},
     "output_type": "execute_result"
    }
   ],
   "source": [
    "pos_sum = 0\n",
    "for k in range(0, len(chn_pos_score)):\n",
    "    pos_sum += int(chn_pos_score[k])\n",
    "pos_sum"
   ]
  },
  {
   "cell_type": "code",
   "execution_count": 22,
   "metadata": {},
   "outputs": [
    {
     "data": {
      "text/plain": [
       "-610"
      ]
     },
     "execution_count": 22,
     "metadata": {},
     "output_type": "execute_result"
    }
   ],
   "source": [
    "neg_sum = 0\n",
    "for k in range(0, len(chn_neg_score)):\n",
    "    neg_sum += int(chn_neg_score[k])\n",
    "neg_sum"
   ]
  },
  {
   "cell_type": "code",
   "execution_count": 23,
   "metadata": {},
   "outputs": [
    {
     "name": "stdout",
     "output_type": "stream",
     "text": [
      "그립 440\n",
      "기쁘 429\n",
      "좋 244\n",
      "반갑 112\n",
      "아름답 101\n",
      "새 64\n",
      "고맙 48\n",
      "무사히 45\n",
      "따뜻 40\n",
      "높 35\n",
      "즐겁 23\n",
      "좋아 19\n",
      "많 17\n",
      "훌륭 16\n",
      "우수 16\n",
      "행복 15\n",
      "위대 15\n",
      "재미있 14\n",
      "젊 14\n",
      "정확 13\n",
      "귀중 12\n",
      "똑똑 11\n",
      "부드럽 10\n",
      "건강 9\n",
      "친절 9\n",
      "너그럽 8\n",
      "자세히 8\n",
      "귀 8\n",
      "굳 8\n",
      "흥겹 7\n",
      "친하 7\n",
      "새롭 7\n",
      "소중히 6\n",
      "좋아하 6\n",
      "편안히 5\n",
      "중요 5\n",
      "유명 4\n",
      "대단 4\n",
      "부지런히 4\n",
      "상당 4\n",
      "자유 4\n",
      "힘차 4\n",
      "옳 4\n",
      "꾸준 3\n",
      "유 3\n",
      "원만 3\n",
      "넉넉 3\n",
      "적당 3\n",
      "유쾌 3\n",
      "귀하 3\n",
      "신성 3\n",
      "정중히 3\n",
      "편히 3\n",
      "귀엽 3\n",
      "설레 2\n",
      "꾸준히 2\n",
      "열렬히 2\n",
      "유리 2\n",
      "드높 2\n",
      "친밀 2\n",
      "고상 2\n",
      "곱 2\n",
      "슬기 2\n",
      "깨끗 2\n",
      "고귀 2\n",
      "알맞 2\n",
      "튼튼히 2\n",
      "예쁘 2\n",
      "선량 2\n",
      "부럽 2\n",
      "강하 2\n",
      "자랑 2\n",
      "평화 2\n",
      "시원 2\n",
      "즐거우 2\n",
      "복 2\n",
      "특별 1\n",
      "용감히 1\n",
      "사랑 1\n",
      "맛있 1\n",
      "부러워하 1\n",
      "경건 1\n",
      "싹싹 1\n",
      "유용 1\n",
      "한결같 1\n",
      "현명 1\n",
      "용감 1\n",
      "유익 1\n",
      "쾌활 1\n",
      "다정 1\n",
      "이쁘 1\n",
      "솔직 1\n",
      "평안히 1\n",
      "건전 1\n",
      "맑 1\n",
      "오붓 1\n",
      "산뜻 1\n",
      "날씬 1\n",
      "생생 1\n",
      "설레이 1\n",
      "달콤 1\n",
      "착하 1\n",
      "정 1\n",
      "떳떳 1\n",
      "의젓 1\n",
      "공손히 1\n",
      "화창 1\n",
      "충분히 1\n",
      "중대 1\n",
      "황홀 1\n",
      "영리 1\n",
      "기뻐하 1\n",
      "확실 1\n",
      "괜찮 1\n"
     ]
    }
   ],
   "source": [
    "count = Counter(chn_pos_list)\n",
    "words = dict(count.most_common())\n",
    "#words\n",
    "for key, value in words.items():\n",
    "    print(key, value)"
   ]
  },
  {
   "cell_type": "code",
   "execution_count": 28,
   "metadata": {},
   "outputs": [
    {
     "data": {
      "image/png": "[encoded data removed]",
      "text/plain": [
       "<Figure size 432x288 with 1 Axes>"
      ]
     },
     "metadata": {
      "image/png": {
       "height": 252,
       "width": 386
      },
      "needs_background": "light"
     },
     "output_type": "display_data"
    }
   ],
   "source": [
    "wordcloud = WordCloud(font_path = 'C:/Windows/Fonts/NanumSquare_acR.ttf', background_color = 'white', colormap = 'Accent_r',\n",
    "                     max_words = 25, width = 3000, height = 2000).generate_from_frequencies(words)\n",
    "\n",
    "plt.imshow(wordcloud)\n",
    "plt.axis('off')\n",
    "plt.show()"
   ]
  },
  {
   "cell_type": "code",
   "execution_count": 29,
   "metadata": {},
   "outputs": [
    {
     "data": {
      "text/plain": [
       "<wordcloud.wordcloud.WordCloud at 0x259a1c57e10>"
      ]
     },
     "execution_count": 29,
     "metadata": {},
     "output_type": "execute_result"
    }
   ],
   "source": [
    "wordcloud.to_file('png/0617_8688중국긍정_25.png')"
   ]
  },
  {
   "cell_type": "code",
   "execution_count": 450,
   "metadata": {},
   "outputs": [
    {
     "name": "stdout",
     "output_type": "stream",
     "text": [
      "없 141\n",
      "어렵 99\n",
      "외롭 41\n",
      "안타깝 37\n",
      "아프 33\n",
      "슬프 28\n",
      "무정 19\n",
      "부끄럽 18\n",
      "미안 14\n",
      "힘들 13\n",
      "불쌍 13\n",
      "섭섭 12\n",
      "괴롭 11\n",
      "약 11\n",
      "답답 11\n",
      "쓸쓸 9\n",
      "무섭 9\n",
      "부족 8\n",
      "서럽 8\n",
      "서투르 8\n",
      "서운 8\n",
      "심하 7\n",
      "어리석 7\n",
      "나쁘 6\n",
      "조급 6\n",
      "쓰라리 5\n",
      "낡 5\n",
      "어지럽 5\n",
      "애절 4\n",
      "서늘 4\n",
      "무례 4\n",
      "허전 4\n",
      "한심 4\n",
      "딱하 4\n",
      "두려워 3\n",
      "가난 3\n",
      "하찮 3\n",
      "죄송 3\n",
      "쓰라림 3\n",
      "급하 3\n",
      "불편 3\n",
      "우울 2\n",
      "바쁘 2\n",
      "처 2\n",
      "애처롭 2\n",
      "곤란 2\n",
      "더럽 2\n",
      "가볍 2\n",
      "시끄럽 2\n",
      "쓸쓸히 2\n",
      "싫 2\n",
      "심각 2\n",
      "더러운 2\n",
      "불쌍히 2\n",
      "무능 2\n",
      "불쾌 2\n",
      "아니 2\n",
      "미치 2\n",
      "아쉽 2\n",
      "불안 1\n",
      "어둡 1\n",
      "서먹서먹 1\n",
      "서글프 1\n",
      "위급 1\n",
      "못마땅 1\n",
      "지루 1\n",
      "쌀쌀 1\n",
      "거북 1\n",
      "괴 1\n",
      "가엾 1\n",
      "가련 1\n",
      "향기 1\n",
      "부질없이 1\n",
      "천하 1\n",
      "쓸데없 1\n",
      "속절없 1\n",
      "간지럽 1\n",
      "엉뚱 1\n",
      "주제넘 1\n",
      "괴상 1\n",
      "황 1\n",
      "비참 1\n",
      "춥 1\n",
      "싸늘 1\n",
      "험하 1\n",
      "불리 1\n",
      "조마조마하 1\n",
      "우습 1\n",
      "억울 1\n",
      "힘들이 1\n",
      "비통 1\n",
      "불행 1\n",
      "사납 1\n",
      "분하 1\n",
      "딱 1\n",
      "그릇 1\n",
      "애달프 1\n",
      "어처구니없 1\n",
      "망하 1\n",
      "독 1\n",
      "천박 1\n",
      "무리 1\n",
      "비싸 1\n",
      "캄캄하 1\n",
      "번거롭 1\n"
     ]
    }
   ],
   "source": [
    "count = Counter(chn_neg_list)\n",
    "words = dict(count.most_common())\n",
    "#words\n",
    "for key, value in words.items():\n",
    "    print(key, value)"
   ]
  },
  {
   "cell_type": "code",
   "execution_count": 453,
   "metadata": {},
   "outputs": [
    {
     "data": {
      "image/png": "[encoded data removed]",
      "text/plain": [
       "<Figure size 432x288 with 1 Axes>"
      ]
     },
     "metadata": {
      "image/png": {
       "height": 252,
       "width": 386
      },
      "needs_background": "light"
     },
     "output_type": "display_data"
    }
   ],
   "source": [
    "wordcloud = WordCloud(font_path = 'C:/Windows/Fonts/NanumSquare_acR.ttf', background_color = 'white', colormap = 'Accent_r',\n",
    "                     max_words = 50, width = 3000, height = 2000).generate_from_frequencies(words)\n",
    "\n",
    "plt.imshow(wordcloud)\n",
    "plt.axis('off')\n",
    "plt.show()"
   ]
  },
  {
   "cell_type": "code",
   "execution_count": 504,
   "metadata": {},
   "outputs": [
    {
     "data": {
      "text/html": [
       "<div>\n",
       "<style scoped>\n",
       "    .dataframe tbody tr th:only-of-type {\n",
       "        vertical-align: middle;\n",
       "    }\n",
       "\n",
       "    .dataframe tbody tr th {\n",
       "        vertical-align: top;\n",
       "    }\n",
       "\n",
       "    .dataframe thead th {\n",
       "        text-align: right;\n",
       "    }\n",
       "</style>\n",
       "<table border=\"1\" class=\"dataframe\">\n",
       "  <thead>\n",
       "    <tr style=\"text-align: right;\">\n",
       "      <th></th>\n",
       "      <th>내용</th>\n",
       "    </tr>\n",
       "  </thead>\n",
       "  <tbody>\n",
       "    <tr>\n",
       "      <th>1</th>\n",
       "      <td>친인, 방송, 반가이, 조선민족, 위하여, 심혈, 선생님, 충심, 감사, 고중, 필...</td>\n",
       "    </tr>\n",
       "    <tr>\n",
       "      <th>3</th>\n",
       "      <td>사회교육방송국, 그리운, 희망막, 담당자, 심양시, 조선족, 중점학교, 공부, 고중...</td>\n",
       "    </tr>\n",
       "    <tr>\n",
       "      <th>11</th>\n",
       "      <td>이전, 형부, 형, 중국, 길림성, 반석현, 명성진, 고장, 살고, 일본놈, 망하든...</td>\n",
       "    </tr>\n",
       "    <tr>\n",
       "      <th>16</th>\n",
       "      <td>중화인민공화국, 조선족, 중학생, 조선동포, 그리는, 마음, 예로부터, 문명한, 언...</td>\n",
       "    </tr>\n",
       "    <tr>\n",
       "      <th>17</th>\n",
       "      <td>학습, 곤난, 상세, 한국방문, 동무, 부친, 조선족학생, 일본어학습, 부모님, 애...</td>\n",
       "    </tr>\n",
       "  </tbody>\n",
       "</table>\n",
       "</div>"
      ],
      "text/plain": [
       "                                                   내용\n",
       "1   친인, 방송, 반가이, 조선민족, 위하여, 심혈, 선생님, 충심, 감사, 고중, 필...\n",
       "3   사회교육방송국, 그리운, 희망막, 담당자, 심양시, 조선족, 중점학교, 공부, 고중...\n",
       "11  이전, 형부, 형, 중국, 길림성, 반석현, 명성진, 고장, 살고, 일본놈, 망하든...\n",
       "16  중화인민공화국, 조선족, 중학생, 조선동포, 그리는, 마음, 예로부터, 문명한, 언...\n",
       "17  학습, 곤난, 상세, 한국방문, 동무, 부친, 조선족학생, 일본어학습, 부모님, 애..."
      ]
     },
     "execution_count": 504,
     "metadata": {},
     "output_type": "execute_result"
    }
   ],
   "source": [
    "jpn = Data['내용'].str.contains('일본|왜국')\n",
    "jpn_pd = Data[jpn]\n",
    "jpn_pd.head()"
   ]
  },
  {
   "cell_type": "code",
   "execution_count": 505,
   "metadata": {},
   "outputs": [],
   "source": [
    "test_jpn = []\n",
    "for line in jpn_pd['내용']:\n",
    "    test_jpn.append(line)"
   ]
  },
  {
   "cell_type": "code",
   "execution_count": 506,
   "metadata": {},
   "outputs": [
    {
     "data": {
      "text/plain": [
       "[[('친', 'Noun'),\n",
       "  ('인', 'Josa'),\n",
       "  (',', 'Punctuation'),\n",
       "  ('방송', 'Noun'),\n",
       "  (',', 'Punctuation'),\n",
       "  ('반가이', 'Adverb'),\n",
       "  (',', 'Punctuation'),\n",
       "  ('조선민족', 'Noun'),\n",
       "  (',', 'Punctuation'),\n",
       "  ('위', 'Noun'),\n",
       "  ('하여', 'Verb'),\n",
       "  (',', 'Punctuation'),\n",
       "  ('심혈', 'Noun'),\n",
       "  (',', 'Punctuation'),\n",
       "  ('선생님', 'Noun'),\n",
       "  (',', 'Punctuation'),\n",
       "  ('충심', 'Noun'),\n",
       "  (',', 'Punctuation'),\n",
       "  ('감사', 'Noun'),\n",
       "  (',', 'Punctuation'),\n",
       "  ('고', 'Modifier'),\n",
       "  ('중', 'Noun'),\n",
       "  (',', 'Punctuation'),\n",
       "  ('필업', 'Noun'),\n",
       "  (',', 'Punctuation'),\n",
       "  ('중등', 'Noun'),\n",
       "  (',', 'Punctuation'),\n",
       "  ('전업', 'Noun'),\n",
       "  (',', 'Punctuation'),\n",
       "  ('학교', 'Noun'),\n",
       "  (',', 'Punctuation'),\n",
       "  ('공부', 'Noun'),\n",
       "  (',', 'Punctuation'),\n",
       "  ('학생', 'Noun'),\n",
       "  (',', 'Punctuation'),\n",
       "  ('지금', 'Noun'),\n",
       "  (',', 'Punctuation'),\n",
       "  ('일본어', 'Noun'),\n",
       "  (',', 'Punctuation'),\n",
       "  ('공부', 'Noun'),\n",
       "  (',', 'Punctuation'),\n",
       "  ('본', 'Modifier'),\n",
       "  ('민족', 'Noun'),\n",
       "  (',', 'Punctuation'),\n",
       "  ('언어', 'Noun'),\n",
       "  (',', 'Punctuation'),\n",
       "  ('사전', 'Noun'),\n",
       "  (',', 'Punctuation'),\n",
       "  ('수요', 'Noun'),\n",
       "  (',', 'Punctuation'),\n",
       "  ('일', 'Modifier'),\n",
       "  ('한', 'Modifier'),\n",
       "  ('사전', 'Noun'),\n",
       "  (',', 'Punctuation'),\n",
       "  ('한', 'Determiner'),\n",
       "  ('부', 'Noun'),\n",
       "  (',', 'Punctuation'),\n",
       "  ('얻고', 'Verb'),\n",
       "  ('저', 'Determiner'),\n",
       "  (',', 'Punctuation'),\n",
       "  ('필', 'Noun'),\n",
       "  (',', 'Punctuation'),\n",
       "  ('어휘', 'Noun'),\n",
       "  ('수자', 'Noun'),\n",
       "  (',', 'Punctuation'),\n",
       "  ('10만', 'Number'),\n",
       "  ('개', 'Foreign'),\n",
       "  (',', 'Punctuation'),\n",
       "  ('오늘', 'Noun'),\n",
       "  (',', 'Punctuation'),\n",
       "  ('이', 'Noun'),\n",
       "  ('만큼', 'Josa'),\n",
       "  (',', 'Punctuation'),\n",
       "  ('다시', 'Noun'),\n",
       "  (',', 'Punctuation'),\n",
       "  ('감사', 'Noun'),\n",
       "  (',', 'Punctuation'),\n",
       "  ('회답', 'Noun'),\n",
       "  ('.', 'Punctuation'),\n",
       "  ('중국', 'Noun'),\n",
       "  (',', 'Punctuation'),\n",
       "  ('료녕성', 'Noun'),\n",
       "  (',', 'Punctuation'),\n",
       "  ('영구시', 'Noun'),\n",
       "  (',', 'Punctuation'),\n",
       "  ('상업', 'Noun'),\n",
       "  ('학교', 'Noun'),\n",
       "  (',', 'Punctuation'),\n",
       "  ('83', 'Number'),\n",
       "  ('급', 'Noun'),\n",
       "  (',', 'Punctuation'),\n",
       "  ('통계', 'Noun'),\n",
       "  ('반', 'Noun')],\n",
       " [('사회', 'Noun'),\n",
       "  ('교육', 'Noun'),\n",
       "  ('방송국', 'Noun'),\n",
       "  (',', 'Punctuation'),\n",
       "  ('그리운', 'Adjective'),\n",
       "  (',', 'Punctuation'),\n",
       "  ('희망', 'Noun'),\n",
       "  ('막', 'Noun'),\n",
       "  (',', 'Punctuation'),\n",
       "  ('담당자', 'Noun'),\n",
       "  (',', 'Punctuation'),\n",
       "  ('심양시', 'Noun'),\n",
       "  (',', 'Punctuation'),\n",
       "  ('조선족', 'Noun'),\n",
       "  (',', 'Punctuation'),\n",
       "  ('중점', 'Noun'),\n",
       "  ('학교', 'Noun'),\n",
       "  (',', 'Punctuation'),\n",
       "  ('공부', 'Noun'),\n",
       "  (',', 'Punctuation'),\n",
       "  ('고', 'Modifier'),\n",
       "  ('중', 'Noun'),\n",
       "  (',', 'Punctuation'),\n",
       "  ('2', 'Number'),\n",
       "  ('학년', 'Noun'),\n",
       "  (',', 'Punctuation'),\n",
       "  ('학생', 'Noun'),\n",
       "  (',', 'Punctuation'),\n",
       "  ('일본어', 'Noun'),\n",
       "  (',', 'Punctuation'),\n",
       "  ('배우고', 'Verb'),\n",
       "  (',', 'Punctuation'),\n",
       "  ('곤난', 'Noun'),\n",
       "  (',', 'Punctuation'),\n",
       "  ('어휘', 'Noun'),\n",
       "  (',', 'Punctuation'),\n",
       "  ('제일', 'Noun'),\n",
       "  (',', 'Punctuation'),\n",
       "  ('곤난', 'Noun'),\n",
       "  (',', 'Punctuation'),\n",
       "  ('일어사전', 'Noun'),\n",
       "  (',', 'Punctuation'),\n",
       "  ('희망', 'Noun'),\n",
       "  (',', 'Punctuation'),\n",
       "  ('충심', 'Noun'),\n",
       "  (',', 'Punctuation'),\n",
       "  ('감사', 'Noun'),\n",
       "  (',', 'Punctuation'),\n",
       "  ('심양시', 'Noun'),\n",
       "  (',', 'Punctuation'),\n",
       "  ('조선족', 'Noun'),\n",
       "  (',', 'Punctuation'),\n",
       "  ('제', 'Noun'),\n",
       "  ('1', 'Number'),\n",
       "  ('중학', 'Noun'),\n",
       "  (',', 'Punctuation'),\n",
       "  ('고', 'Noun'),\n",
       "  ('2', 'Number'),\n",
       "  (',', 'Punctuation'),\n",
       "  ('4', 'Number'),\n",
       "  ('반', 'Noun')]]"
      ]
     },
     "execution_count": 506,
     "metadata": {},
     "output_type": "execute_result"
    }
   ],
   "source": [
    "sentences_tag_jpn = []\n",
    "for sentence in test_jpn:\n",
    "    morph = twitter.pos(sentence)\n",
    "    sentences_tag_jpn.append(morph)\n",
    "sentences_tag_jpn[:2]"
   ]
  },
  {
   "cell_type": "code",
   "execution_count": 507,
   "metadata": {},
   "outputs": [
    {
     "data": {
      "text/plain": [
       "['그리운', '망하든해', '없으며', '작은', '없고']"
      ]
     },
     "execution_count": 507,
     "metadata": {},
     "output_type": "execute_result"
    }
   ],
   "source": [
    "adj_list_jpn = []\n",
    "for sentence1 in sentences_tag_jpn:\n",
    "    for word, tag in sentence1:\n",
    "        if tag in ['Adjective']:\n",
    "            adj_list_jpn.append(word)\n",
    "adj_list_jpn[:5]"
   ]
  },
  {
   "cell_type": "code",
   "execution_count": 508,
   "metadata": {},
   "outputs": [],
   "source": [
    "jpn_r_words = []\n",
    "jpn_s_words = []\n",
    "for k in range(0, len(adj_list_jpn)):\n",
    "    jpn_r_words.append(KnuSL(adj_list_jpn[k])[0])\n",
    "    jpn_s_words.append(KnuSL(adj_list_jpn[k])[1])"
   ]
  },
  {
   "cell_type": "code",
   "execution_count": 509,
   "metadata": {},
   "outputs": [],
   "source": [
    "jpn_posneg_list = []\n",
    "for k in range(0, len(adj_list_jpn)):\n",
    "    test = []\n",
    "    test.append(jpn_r_words[k])\n",
    "    test.append(jpn_s_words[k])\n",
    "    jpn_posneg_list.append(test)"
   ]
  },
  {
   "cell_type": "code",
   "execution_count": 510,
   "metadata": {},
   "outputs": [
    {
     "data": {
      "text/plain": [
       "[['그립', '1'],\n",
       " ['None', 'None'],\n",
       " ['None', 'None'],\n",
       " ['None', 'None'],\n",
       " ['None', 'None'],\n",
       " ['깨끗', '2'],\n",
       " ['None', 'None'],\n",
       " ['None', 'None'],\n",
       " ['좋', '2'],\n",
       " ['None', 'None'],\n",
       " ['None', 'None'],\n",
       " ['None', 'None'],\n",
       " ['기쁘', '2'],\n",
       " ['None', 'None'],\n",
       " ['None', 'None']]"
      ]
     },
     "execution_count": 510,
     "metadata": {},
     "output_type": "execute_result"
    }
   ],
   "source": [
    "jpn_posneg_list[:15]"
   ]
  },
  {
   "cell_type": "code",
   "execution_count": 511,
   "metadata": {},
   "outputs": [],
   "source": [
    "jpn_pos_list = []\n",
    "jpn_pos_score = []\n",
    "jpn_neg_list = []\n",
    "jpn_neg_score = []\n",
    "for k in range(0, len(jpn_posneg_list)):\n",
    "    if jpn_posneg_list[k][1] == '1':\n",
    "        jpn_pos_list.append(jpn_posneg_list[k][0])\n",
    "        jpn_pos_score.append(jpn_posneg_list[k][1])\n",
    "    elif jpn_posneg_list[k][1] == '2':\n",
    "        jpn_pos_list.append(jpn_posneg_list[k][0])\n",
    "        jpn_pos_score.append(jpn_posneg_list[k][1])\n",
    "    elif jpn_posneg_list[k][1] == '-1':\n",
    "        jpn_neg_list.append(jpn_posneg_list[k][0])\n",
    "        jpn_neg_score.append(jpn_posneg_list[k][1])\n",
    "    elif jpn_posneg_list[k][1] == '-2':\n",
    "        jpn_neg_list.append(jpn_posneg_list[k][0])\n",
    "        jpn_neg_score.append(jpn_posneg_list[k][1])"
   ]
  },
  {
   "cell_type": "code",
   "execution_count": 512,
   "metadata": {},
   "outputs": [
    {
     "name": "stdout",
     "output_type": "stream",
     "text": [
      "2625\n",
      "318\n",
      "96\n",
      "2625\n",
      "2625\n"
     ]
    }
   ],
   "source": [
    "print(len(jpn_posneg_list))\n",
    "print(len(jpn_pos_list))\n",
    "print(len(jpn_neg_list))\n",
    "print(len(jpn_r_words))\n",
    "print(len(jpn_s_words))"
   ]
  },
  {
   "cell_type": "code",
   "execution_count": 513,
   "metadata": {},
   "outputs": [
    {
     "data": {
      "text/plain": [
       "414"
      ]
     },
     "execution_count": 513,
     "metadata": {},
     "output_type": "execute_result"
    }
   ],
   "source": [
    "while 'None' in jpn_s_words:\n",
    "    jpn_s_words.remove('None')\n",
    "len(jpn_s_words)"
   ]
  },
  {
   "cell_type": "code",
   "execution_count": 514,
   "metadata": {},
   "outputs": [
    {
     "data": {
      "text/plain": [
       "530"
      ]
     },
     "execution_count": 514,
     "metadata": {},
     "output_type": "execute_result"
    }
   ],
   "source": [
    "pos_sum = 0\n",
    "for k in range(0, len(jpn_pos_score)):\n",
    "    pos_sum += int(jpn_pos_score[k])\n",
    "pos_sum"
   ]
  },
  {
   "cell_type": "code",
   "execution_count": 515,
   "metadata": {},
   "outputs": [
    {
     "data": {
      "text/plain": [
       "-158"
      ]
     },
     "execution_count": 515,
     "metadata": {},
     "output_type": "execute_result"
    }
   ],
   "source": [
    "neg_sum = 0\n",
    "for k in range(0, len(jpn_neg_score)):\n",
    "    neg_sum += int(jpn_neg_score[k])\n",
    "neg_sum"
   ]
  },
  {
   "cell_type": "code",
   "execution_count": 467,
   "metadata": {},
   "outputs": [
    {
     "name": "stdout",
     "output_type": "stream",
     "text": [
      "기쁘 158\n",
      "그립 125\n",
      "좋 84\n",
      "반갑 42\n",
      "아름답 33\n",
      "새 26\n",
      "무사히 20\n",
      "따뜻 18\n",
      "고맙 17\n",
      "높 14\n",
      "우수 12\n",
      "젊 11\n",
      "귀중 8\n",
      "좋아 8\n",
      "많 7\n",
      "훌륭 4\n",
      "부드럽 4\n",
      "즐겁 4\n",
      "위대 4\n",
      "굳 4\n",
      "귀 3\n",
      "부지런히 3\n",
      "친하 3\n",
      "행복 3\n",
      "중요 3\n",
      "똑똑 3\n",
      "좋아하 3\n",
      "유용 2\n",
      "적절 2\n",
      "흥겹 2\n",
      "맑 2\n",
      "괜찮 2\n",
      "순수 2\n",
      "유명 2\n",
      "정확 2\n",
      "건강 2\n",
      "착하 2\n",
      "고상 2\n",
      "너그럽 2\n",
      "재미있 2\n",
      "유리 2\n",
      "옳 2\n",
      "간드러지 1\n",
      "분명 1\n",
      "자유 1\n",
      "원만 1\n",
      "고귀 1\n",
      "상당 1\n",
      "특별 1\n",
      "사랑 1\n",
      "자랑 1\n",
      "친밀 1\n",
      "씩씩 1\n",
      "힘차 1\n",
      "꾸준 1\n",
      "귀중히 1\n",
      "들뜨 1\n",
      "화려 1\n",
      "적당 1\n",
      "환 1\n",
      "진실 1\n",
      "신중 1\n",
      "화창 1\n",
      "설레이 1\n",
      "자세히 1\n",
      "충분히 1\n",
      "신성 1\n",
      "장엄 1\n",
      "편히 1\n",
      "기뻐하 1\n",
      "활발 1\n",
      "멋지 1\n",
      "대단 1\n",
      "황홀 1\n",
      "부럽 1\n",
      "새롭 1\n",
      "선량 1\n"
     ]
    }
   ],
   "source": [
    "count = Counter(jpn_pos_list)\n",
    "words = dict(count.most_common())\n",
    "#words\n",
    "for key, value in words.items():\n",
    "    print(key, value)"
   ]
  },
  {
   "cell_type": "code",
   "execution_count": 470,
   "metadata": {},
   "outputs": [
    {
     "data": {
      "image/png": "[encoded data removed]",
      "text/plain": [
       "<Figure size 432x288 with 1 Axes>"
      ]
     },
     "metadata": {
      "image/png": {
       "height": 252,
       "width": 386
      },
      "needs_background": "light"
     },
     "output_type": "display_data"
    }
   ],
   "source": [
    "wordcloud = WordCloud(font_path = 'C:/Windows/Fonts/NanumSquare_acR.ttf', background_color = 'white', colormap = 'Accent_r',\n",
    "                     max_words = 50, width = 3000, height = 2000).generate_from_frequencies(words)\n",
    "\n",
    "plt.imshow(wordcloud)\n",
    "plt.axis('off')\n",
    "plt.show()"
   ]
  },
  {
   "cell_type": "code",
   "execution_count": 472,
   "metadata": {},
   "outputs": [
    {
     "name": "stdout",
     "output_type": "stream",
     "text": [
      "어렵 33\n",
      "없 33\n",
      "외롭 13\n",
      "안타깝 8\n",
      "슬프 5\n",
      "무섭 4\n",
      "힘들 4\n",
      "아프 4\n",
      "부끄럽 4\n",
      "미안 4\n",
      "답답 3\n",
      "괴롭 3\n",
      "낡 3\n",
      "약 3\n",
      "시끄럽 2\n",
      "쓸쓸히 2\n",
      "불쌍히 2\n",
      "쓸쓸 2\n",
      "싫 2\n",
      "그릇 2\n",
      "불쌍 2\n",
      "단념 1\n",
      "쓰라리 1\n",
      "심하 1\n",
      "서늘 1\n",
      "천하 1\n",
      "초조 1\n",
      "서운 1\n",
      "약하 1\n",
      "서럽 1\n",
      "애절 1\n",
      "허전 1\n",
      "어색 1\n",
      "어설프 1\n",
      "부족 1\n",
      "음흉 1\n",
      "하찮 1\n",
      "비참 1\n",
      "반반 1\n",
      "싸늘 1\n",
      "어리석 1\n",
      "딱하 1\n",
      "무례 1\n",
      "짧 1\n",
      "불편 1\n",
      "어처구니없 1\n",
      "더러운 1\n",
      "뚱뚱 1\n",
      "무정 1\n"
     ]
    }
   ],
   "source": [
    "count = Counter(jpn_neg_list)\n",
    "words = dict(count.most_common())\n",
    "#words\n",
    "for key, value in words.items():\n",
    "    print(key, value)"
   ]
  },
  {
   "cell_type": "code",
   "execution_count": 475,
   "metadata": {},
   "outputs": [
    {
     "data": {
      "image/png": "[encoded data removed]",
      "text/plain": [
       "<Figure size 432x288 with 1 Axes>"
      ]
     },
     "metadata": {
      "image/png": {
       "height": 252,
       "width": 386
      },
      "needs_background": "light"
     },
     "output_type": "display_data"
    }
   ],
   "source": [
    "wordcloud = WordCloud(font_path = 'C:/Windows/Fonts/NanumSquare_acR.ttf', background_color = 'white', colormap = 'Accent_r',\n",
    "                     max_words = 25, width = 3000, height = 2000).generate_from_frequencies(words)\n",
    "\n",
    "plt.imshow(wordcloud)\n",
    "plt.axis('off')\n",
    "plt.show()"
   ]
  }
 ],
 "metadata": {
  "kernelspec": {
   "display_name": "Python 3",
   "language": "python",
   "name": "python3"
  },
  "language_info": {
   "codemirror_mode": {
    "name": "ipython",
    "version": 3
   },
   "file_extension": ".py",
   "mimetype": "text/x-python",
   "name": "python",
   "nbconvert_exporter": "python",
   "pygments_lexer": "ipython3",
   "version": "3.7.4"
  }
 },
 "nbformat": 4,
 "nbformat_minor": 2
}
